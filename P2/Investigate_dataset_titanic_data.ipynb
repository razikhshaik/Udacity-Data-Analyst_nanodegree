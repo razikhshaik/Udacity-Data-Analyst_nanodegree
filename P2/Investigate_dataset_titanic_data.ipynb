{
 "cells": [
  {
   "cell_type": "markdown",
   "metadata": {},
   "source": [
    "# P2: Investigate a Dataset"
   ]
  },
  {
   "cell_type": "markdown",
   "metadata": {},
   "source": [
    "## 1. Introduction\n",
    "\n",
    "For the second project in the Data Analyst Course from Udacity, I have chosen to do analysis on titanic dataset. This dataset is a subset of the complete data provided by [Kaggle](https://www.kaggle.com/c/titanic/data) and a description of its structure can be found there. There is information about 891 of 2224 passengers and crew on board of the Titanic.\n",
    "\n",
    "Objective of this project is to figure out the key factors which influcenced the surivival of passengers and crew on-board. In Specific I will be performing analysis to find out:\n",
    "    \n",
    "   -  Whether males or females were more likely to survive?\n",
    "   -  Whether social class had any influence on chances of survival?\n",
    "   -  Whether a particular age group were more likely to survive?\n",
    "   -  Whether families on-boards have more chances of survival?\n",
    "   -  Whether there was a variation in survival rate for different decks?"
   ]
  },
  {
   "cell_type": "markdown",
   "metadata": {},
   "source": [
    "## 2. Data Wrangling\n",
    "\n",
    "Titanic Dataset is provided in csv format, there are a couple of packages that can read data from csv format. I will be using pandas package to load the data directly to a dataframe, which makes it easy for any analysis in further steps.\n",
    "\n",
    "In addition to pandas I will also be using Numpy and Matplotlib libraries."
   ]
  },
  {
   "cell_type": "code",
   "execution_count": 1,
   "metadata": {
    "collapsed": false
   },
   "outputs": [
    {
     "name": "stdout",
     "output_type": "stream",
     "text": [
      "Populating the interactive namespace from numpy and matplotlib\n"
     ]
    },
    {
     "data": {
      "text/html": [
       "<div>\n",
       "<table border=\"1\" class=\"dataframe\">\n",
       "  <thead>\n",
       "    <tr style=\"text-align: right;\">\n",
       "      <th></th>\n",
       "      <th>PassengerId</th>\n",
       "      <th>Survived</th>\n",
       "      <th>Pclass</th>\n",
       "      <th>Name</th>\n",
       "      <th>Sex</th>\n",
       "      <th>Age</th>\n",
       "      <th>SibSp</th>\n",
       "      <th>Parch</th>\n",
       "      <th>Ticket</th>\n",
       "      <th>Fare</th>\n",
       "      <th>Cabin</th>\n",
       "      <th>Embarked</th>\n",
       "    </tr>\n",
       "  </thead>\n",
       "  <tbody>\n",
       "    <tr>\n",
       "      <th>0</th>\n",
       "      <td>1</td>\n",
       "      <td>0</td>\n",
       "      <td>3</td>\n",
       "      <td>Braund, Mr. Owen Harris</td>\n",
       "      <td>male</td>\n",
       "      <td>22</td>\n",
       "      <td>1</td>\n",
       "      <td>0</td>\n",
       "      <td>A/5 21171</td>\n",
       "      <td>7.2500</td>\n",
       "      <td>NaN</td>\n",
       "      <td>S</td>\n",
       "    </tr>\n",
       "    <tr>\n",
       "      <th>1</th>\n",
       "      <td>2</td>\n",
       "      <td>1</td>\n",
       "      <td>1</td>\n",
       "      <td>Cumings, Mrs. John Bradley (Florence Briggs Th...</td>\n",
       "      <td>female</td>\n",
       "      <td>38</td>\n",
       "      <td>1</td>\n",
       "      <td>0</td>\n",
       "      <td>PC 17599</td>\n",
       "      <td>71.2833</td>\n",
       "      <td>C85</td>\n",
       "      <td>C</td>\n",
       "    </tr>\n",
       "    <tr>\n",
       "      <th>2</th>\n",
       "      <td>3</td>\n",
       "      <td>1</td>\n",
       "      <td>3</td>\n",
       "      <td>Heikkinen, Miss. Laina</td>\n",
       "      <td>female</td>\n",
       "      <td>26</td>\n",
       "      <td>0</td>\n",
       "      <td>0</td>\n",
       "      <td>STON/O2. 3101282</td>\n",
       "      <td>7.9250</td>\n",
       "      <td>NaN</td>\n",
       "      <td>S</td>\n",
       "    </tr>\n",
       "    <tr>\n",
       "      <th>3</th>\n",
       "      <td>4</td>\n",
       "      <td>1</td>\n",
       "      <td>1</td>\n",
       "      <td>Futrelle, Mrs. Jacques Heath (Lily May Peel)</td>\n",
       "      <td>female</td>\n",
       "      <td>35</td>\n",
       "      <td>1</td>\n",
       "      <td>0</td>\n",
       "      <td>113803</td>\n",
       "      <td>53.1000</td>\n",
       "      <td>C123</td>\n",
       "      <td>S</td>\n",
       "    </tr>\n",
       "    <tr>\n",
       "      <th>4</th>\n",
       "      <td>5</td>\n",
       "      <td>0</td>\n",
       "      <td>3</td>\n",
       "      <td>Allen, Mr. William Henry</td>\n",
       "      <td>male</td>\n",
       "      <td>35</td>\n",
       "      <td>0</td>\n",
       "      <td>0</td>\n",
       "      <td>373450</td>\n",
       "      <td>8.0500</td>\n",
       "      <td>NaN</td>\n",
       "      <td>S</td>\n",
       "    </tr>\n",
       "  </tbody>\n",
       "</table>\n",
       "</div>"
      ],
      "text/plain": [
       "   PassengerId  Survived  Pclass  \\\n",
       "0            1         0       3   \n",
       "1            2         1       1   \n",
       "2            3         1       3   \n",
       "3            4         1       1   \n",
       "4            5         0       3   \n",
       "\n",
       "                                                Name     Sex  Age  SibSp  \\\n",
       "0                            Braund, Mr. Owen Harris    male   22      1   \n",
       "1  Cumings, Mrs. John Bradley (Florence Briggs Th...  female   38      1   \n",
       "2                             Heikkinen, Miss. Laina  female   26      0   \n",
       "3       Futrelle, Mrs. Jacques Heath (Lily May Peel)  female   35      1   \n",
       "4                           Allen, Mr. William Henry    male   35      0   \n",
       "\n",
       "   Parch            Ticket     Fare Cabin Embarked  \n",
       "0      0         A/5 21171   7.2500   NaN        S  \n",
       "1      0          PC 17599  71.2833   C85        C  \n",
       "2      0  STON/O2. 3101282   7.9250   NaN        S  \n",
       "3      0            113803  53.1000  C123        S  \n",
       "4      0            373450   8.0500   NaN        S  "
      ]
     },
     "execution_count": 1,
     "metadata": {},
     "output_type": "execute_result"
    }
   ],
   "source": [
    "import pandas as pd\n",
    "import numpy as np\n",
    "import matplotlib.pyplot as plt\n",
    "from sklearn.neighbors import KNeighborsClassifier\n",
    "from scipy import stats\n",
    "import ipy_table as tbl\n",
    "\n",
    "%pylab inline\n",
    "\n",
    "# Loading the dataset using pandas function read_csv\n",
    "titanic_dataset = pd.read_csv('titanic_data.csv')\n",
    "\n",
    "# Let's run a couple of commands to verify the data has been loaded correctly \n",
    "titanic_dataset.head()"
   ]
  },
  {
   "cell_type": "code",
   "execution_count": 2,
   "metadata": {
    "collapsed": false
   },
   "outputs": [
    {
     "data": {
      "text/plain": [
       "PassengerId      int64\n",
       "Survived         int64\n",
       "Pclass           int64\n",
       "Name            object\n",
       "Sex             object\n",
       "Age            float64\n",
       "SibSp            int64\n",
       "Parch            int64\n",
       "Ticket          object\n",
       "Fare           float64\n",
       "Cabin           object\n",
       "Embarked        object\n",
       "dtype: object"
      ]
     },
     "execution_count": 2,
     "metadata": {},
     "output_type": "execute_result"
    }
   ],
   "source": [
    "# Let's see what column types we have in the dataset\n",
    "titanic_dataset.dtypes"
   ]
  },
  {
   "cell_type": "markdown",
   "metadata": {},
   "source": [
    "Survived column is of type int, I would like to convert that to a bool which is more appropriate. Sex is a categorical variable, it would be handy to convert this to 0 and 1 for any numerical analysis that has to be done on top of it. "
   ]
  },
  {
   "cell_type": "code",
   "execution_count": 3,
   "metadata": {
    "collapsed": false
   },
   "outputs": [],
   "source": [
    "titanic_dataset['Survived'] = titanic_dataset['Survived'].astype(bool)\n",
    "titanic_dataset['Sex'] = titanic_dataset['Sex'].map({'female': 0, 'male': 1})"
   ]
  },
  {
   "cell_type": "markdown",
   "metadata": {},
   "source": [
    "Let's summarize the dataset using describe function for numeric columns for descriptive stats to understand the data better."
   ]
  },
  {
   "cell_type": "code",
   "execution_count": 4,
   "metadata": {
    "collapsed": false
   },
   "outputs": [
    {
     "data": {
      "text/html": [
       "<div>\n",
       "<table border=\"1\" class=\"dataframe\">\n",
       "  <thead>\n",
       "    <tr style=\"text-align: right;\">\n",
       "      <th></th>\n",
       "      <th>PassengerId</th>\n",
       "      <th>Survived</th>\n",
       "      <th>Pclass</th>\n",
       "      <th>Sex</th>\n",
       "      <th>Age</th>\n",
       "      <th>SibSp</th>\n",
       "      <th>Parch</th>\n",
       "      <th>Fare</th>\n",
       "    </tr>\n",
       "  </thead>\n",
       "  <tbody>\n",
       "    <tr>\n",
       "      <th>count</th>\n",
       "      <td>891.000000</td>\n",
       "      <td>891</td>\n",
       "      <td>891.000000</td>\n",
       "      <td>891.000000</td>\n",
       "      <td>714.000000</td>\n",
       "      <td>891.000000</td>\n",
       "      <td>891.000000</td>\n",
       "      <td>891.000000</td>\n",
       "    </tr>\n",
       "    <tr>\n",
       "      <th>mean</th>\n",
       "      <td>446.000000</td>\n",
       "      <td>0.383838</td>\n",
       "      <td>2.308642</td>\n",
       "      <td>0.647587</td>\n",
       "      <td>29.699118</td>\n",
       "      <td>0.523008</td>\n",
       "      <td>0.381594</td>\n",
       "      <td>32.204208</td>\n",
       "    </tr>\n",
       "    <tr>\n",
       "      <th>std</th>\n",
       "      <td>257.353842</td>\n",
       "      <td>0.486592</td>\n",
       "      <td>0.836071</td>\n",
       "      <td>0.477990</td>\n",
       "      <td>14.526497</td>\n",
       "      <td>1.102743</td>\n",
       "      <td>0.806057</td>\n",
       "      <td>49.693429</td>\n",
       "    </tr>\n",
       "    <tr>\n",
       "      <th>min</th>\n",
       "      <td>1.000000</td>\n",
       "      <td>False</td>\n",
       "      <td>1.000000</td>\n",
       "      <td>0.000000</td>\n",
       "      <td>0.420000</td>\n",
       "      <td>0.000000</td>\n",
       "      <td>0.000000</td>\n",
       "      <td>0.000000</td>\n",
       "    </tr>\n",
       "    <tr>\n",
       "      <th>25%</th>\n",
       "      <td>223.500000</td>\n",
       "      <td>0</td>\n",
       "      <td>2.000000</td>\n",
       "      <td>0.000000</td>\n",
       "      <td>20.125000</td>\n",
       "      <td>0.000000</td>\n",
       "      <td>0.000000</td>\n",
       "      <td>7.910400</td>\n",
       "    </tr>\n",
       "    <tr>\n",
       "      <th>50%</th>\n",
       "      <td>446.000000</td>\n",
       "      <td>0</td>\n",
       "      <td>3.000000</td>\n",
       "      <td>1.000000</td>\n",
       "      <td>28.000000</td>\n",
       "      <td>0.000000</td>\n",
       "      <td>0.000000</td>\n",
       "      <td>14.454200</td>\n",
       "    </tr>\n",
       "    <tr>\n",
       "      <th>75%</th>\n",
       "      <td>668.500000</td>\n",
       "      <td>1</td>\n",
       "      <td>3.000000</td>\n",
       "      <td>1.000000</td>\n",
       "      <td>38.000000</td>\n",
       "      <td>1.000000</td>\n",
       "      <td>0.000000</td>\n",
       "      <td>31.000000</td>\n",
       "    </tr>\n",
       "    <tr>\n",
       "      <th>max</th>\n",
       "      <td>891.000000</td>\n",
       "      <td>True</td>\n",
       "      <td>3.000000</td>\n",
       "      <td>1.000000</td>\n",
       "      <td>80.000000</td>\n",
       "      <td>8.000000</td>\n",
       "      <td>6.000000</td>\n",
       "      <td>512.329200</td>\n",
       "    </tr>\n",
       "  </tbody>\n",
       "</table>\n",
       "</div>"
      ],
      "text/plain": [
       "       PassengerId  Survived      Pclass         Sex         Age       SibSp  \\\n",
       "count   891.000000       891  891.000000  891.000000  714.000000  891.000000   \n",
       "mean    446.000000  0.383838    2.308642    0.647587   29.699118    0.523008   \n",
       "std     257.353842  0.486592    0.836071    0.477990   14.526497    1.102743   \n",
       "min       1.000000     False    1.000000    0.000000    0.420000    0.000000   \n",
       "25%     223.500000         0    2.000000    0.000000   20.125000    0.000000   \n",
       "50%     446.000000         0    3.000000    1.000000   28.000000    0.000000   \n",
       "75%     668.500000         1    3.000000    1.000000   38.000000    1.000000   \n",
       "max     891.000000      True    3.000000    1.000000   80.000000    8.000000   \n",
       "\n",
       "            Parch        Fare  \n",
       "count  891.000000  891.000000  \n",
       "mean     0.381594   32.204208  \n",
       "std      0.806057   49.693429  \n",
       "min      0.000000    0.000000  \n",
       "25%      0.000000    7.910400  \n",
       "50%      0.000000   14.454200  \n",
       "75%      0.000000   31.000000  \n",
       "max      6.000000  512.329200  "
      ]
     },
     "execution_count": 4,
     "metadata": {},
     "output_type": "execute_result"
    }
   ],
   "source": [
    "titanic_dataset.describe()"
   ]
  },
  {
   "cell_type": "markdown",
   "metadata": {},
   "source": [
    "## 2.1 Feature Engineering\n",
    "\n",
    "It is often important to add derived columns which can add value to our analysis. \n",
    "\n",
    "From visual inspection of the dataset, I was able to find there were missing values for age variable. Age is an important feature to determine the chances of survival, so it is better to update missing values with meaningful information(will be done in further steps). I was interseted to see whether title information can be derived from name column, as title information can be used as one of the factor to estimate age.\n",
    "\n",
    "Feature variable 1: Title"
   ]
  },
  {
   "cell_type": "code",
   "execution_count": 5,
   "metadata": {
    "collapsed": false
   },
   "outputs": [
    {
     "data": {
      "text/plain": [
       "Mr              517\n",
       "Miss            182\n",
       "Mrs             125\n",
       "Master           40\n",
       "Dr                7\n",
       "Rev               6\n",
       "Mlle              2\n",
       "Col               2\n",
       "Major             2\n",
       "Lady              1\n",
       "Jonkheer          1\n",
       "Don               1\n",
       "Ms                1\n",
       "Mme               1\n",
       "Capt              1\n",
       "the Countess      1\n",
       "Sir               1\n",
       "Name: Name, dtype: int64"
      ]
     },
     "execution_count": 5,
     "metadata": {},
     "output_type": "execute_result"
    }
   ],
   "source": [
    "titanic_dataset['Name'].str.replace('(.*, )|(\\\\..*)', '', case=False).value_counts()"
   ]
  },
  {
   "cell_type": "markdown",
   "metadata": {},
   "source": [
    "As there are quite a few rare titles it will better if group them to a single unique title. (There cannot be much value extracted by treating these rare titles separately. To avoid complexity grouping is done.)\n",
    "\n",
    "Let's also fix french titles (Mlle to Miss, Mme to Mrs) and short forms (Ms to Miss)"
   ]
  },
  {
   "cell_type": "code",
   "execution_count": 6,
   "metadata": {
    "collapsed": false
   },
   "outputs": [
    {
     "data": {
      "text/plain": [
       "Mr        517\n",
       "Miss      185\n",
       "Mrs       126\n",
       "Master     40\n",
       "rare       23\n",
       "Name: Title, dtype: int64"
      ]
     },
     "execution_count": 6,
     "metadata": {},
     "output_type": "execute_result"
    }
   ],
   "source": [
    "# Also reassign mlle, ms, and mme accordingly\n",
    "titanic_dataset['Title'] = titanic_dataset['Name'].str.replace('(.*, )|(\\\\..*)', '', case=False)\n",
    "titanic_dataset['Title'].replace('Mlle','Miss', True)\n",
    "titanic_dataset['Title'].replace('Ms','Miss', True)\n",
    "titanic_dataset['Title'].replace('Mme','Mrs', True)\n",
    "rare_titles = ['Dona', 'Lady', 'the Countess','Capt', 'Col', 'Don', 'Dr', 'Major', 'Rev', 'Sir', 'Jonkheer']\n",
    "titanic_dataset['Title'].replace(rare_titles, 'rare', True)\n",
    "titanic_dataset['Title'].value_counts()"
   ]
  },
  {
   "cell_type": "markdown",
   "metadata": {},
   "source": [
    "Let's store this information to a column 'Title', since our objective is that having title can help us deal with missing ages, it is better we map each of the variables to a unique int value to do numeric analysis in further steps."
   ]
  },
  {
   "cell_type": "code",
   "execution_count": 7,
   "metadata": {
    "collapsed": true
   },
   "outputs": [],
   "source": [
    "titanic_dataset['Title'] = titanic_dataset['Title'].map({'Mr': 0, 'Miss': 1, 'Mrs':2, 'Master':3, 'rare':4})"
   ]
  },
  {
   "cell_type": "markdown",
   "metadata": {},
   "source": [
    "Let's move on to another derived variable!!\n",
    "\n",
    "\n",
    "To do analysis on whether families have better chance of survival, we need to calculate the family size of each passenger, Forunately information about Number of siblings/spouses aboard and Number of parents/children aboard is specified for each passenger. All that is required is to sum them up to get the family size.\n",
    "\n",
    "Feature variable 2: Family_size\n"
   ]
  },
  {
   "cell_type": "code",
   "execution_count": 8,
   "metadata": {
    "collapsed": false
   },
   "outputs": [
    {
     "data": {
      "text/plain": [
       "1     537\n",
       "2     161\n",
       "3     102\n",
       "4      29\n",
       "6      22\n",
       "5      15\n",
       "7      12\n",
       "11      7\n",
       "8       6\n",
       "Name: Family_size, dtype: int64"
      ]
     },
     "execution_count": 8,
     "metadata": {},
     "output_type": "execute_result"
    }
   ],
   "source": [
    "titanic_dataset['Family_size'] = titanic_dataset['SibSp'] +titanic_dataset['Parch'] + 1\n",
    "titanic_dataset['Family_size'].value_counts()"
   ]
  },
  {
   "cell_type": "markdown",
   "metadata": {},
   "source": [
    "As we can see from the output above we have varied number of family sizes, to make it simpler we can spilt this into 3 categories, 1) Single, 2) Small family size (under 4 members) 3) Large fammily size (greater than 4 members)\n",
    "\n",
    "Using these variables we can make a generalized statement to whether families swim together or singles have more chance of survival"
   ]
  },
  {
   "cell_type": "code",
   "execution_count": 9,
   "metadata": {
    "collapsed": false
   },
   "outputs": [
    {
     "data": {
      "text/plain": [
       "single    537\n",
       "small     292\n",
       "large      62\n",
       "Name: Family_size_category, dtype: int64"
      ]
     },
     "execution_count": 9,
     "metadata": {},
     "output_type": "execute_result"
    }
   ],
   "source": [
    "titanic_dataset.loc[titanic_dataset.Family_size == 1, 'Family_size_category'] = 'single'\n",
    "titanic_dataset.loc[titanic_dataset.Family_size > 4, 'Family_size_category'] = 'large'\n",
    "titanic_dataset.loc[(titanic_dataset.Family_size >1) & (titanic_dataset.Family_size <= 4), 'Family_size_category'] = 'small'\n",
    "\n",
    "titanic_dataset['Family_size_category'].value_counts()"
   ]
  },
  {
   "cell_type": "markdown",
   "metadata": {},
   "source": [
    "Feature variable 3: Deck information!\n",
    "\n",
    "I think which deck a passenger is located is a important factor of survival. Passengers on top deck can have quick and  easy access to the resuce boats on titanic. Deck information however is not provided in the titanic dataset, after dong a lil bit of research online i was able to figure out that Cabin information contains which deck a particular passenger is on. Cabin number C85 means that the passenger is on Deck C.\n",
    "\n",
    "Let's look at how many passengers have cabin information."
   ]
  },
  {
   "cell_type": "code",
   "execution_count": 10,
   "metadata": {
    "collapsed": false,
    "scrolled": true
   },
   "outputs": [
    {
     "name": "stdout",
     "output_type": "stream",
     "text": [
      "Null cabin count:  687\n",
      "Passengers count:  891\n",
      "Known cabin passengers count:  204\n"
     ]
    }
   ],
   "source": [
    "print \"Null cabin count: \",titanic_dataset[\"Cabin\"].isnull().sum()\n",
    "known_cabin_passengers = titanic_dataset.dropna(subset = [\"Cabin\"])\n",
    "print \"Passengers count: \", len(titanic_dataset)\n",
    "print \"Known cabin passengers count: \", len(known_cabin_passengers)"
   ]
  },
  {
   "cell_type": "markdown",
   "metadata": {},
   "source": [
    "As Cabin number being a string variable and amount of data that is available to us is only 204 out of 891 records, It is not enough information to update the missing data for 687 records. \n",
    "\n",
    "I decided to stick doing analysis on just 204 records. I am storing this 204 records in other dataframe.\n",
    "\n",
    "From visual inspection of the cabin numbers, I have noticed that there are passengers who are assigned to multiple cabins, some on different decks. Since, we are not sure on which deck they were during the crash. I am ignoring the rows which have two different deck information."
   ]
  },
  {
   "cell_type": "code",
   "execution_count": 11,
   "metadata": {
    "collapsed": true
   },
   "outputs": [],
   "source": [
    "split_cabins = known_cabin_passengers[\"Cabin\"].str.split(\" \") # create a Series containing lists of cabins\n",
    "split_cabins = split_cabins.apply(pd.Series, 1).stack() # split the lists in multiple rows \n",
    "split_cabins.index = split_cabins.index.droplevel(-1) # remove the extra index column\n",
    "split_cabins.name = \"Cabin\"\n",
    "\n",
    "del known_cabin_passengers[\"Cabin\"] # delete the original column\n",
    "known_cabin_passengers = known_cabin_passengers.join(split_cabins) # insert the new column"
   ]
  },
  {
   "cell_type": "code",
   "execution_count": 12,
   "metadata": {
    "collapsed": true
   },
   "outputs": [],
   "source": [
    "decks = known_cabin_passengers[\"Cabin\"].str[0]\n",
    "decks.name = \"Deck\"\n",
    "\n",
    "cabins = known_cabin_passengers[\"Cabin\"].str[1:]\n",
    "cabins.name = \"Cabin\"\n",
    "\n",
    "del known_cabin_passengers[\"Cabin\"]\n",
    "known_cabin_passengers = pd.concat([known_cabin_passengers, decks, cabins], join=\"inner\", axis=1)"
   ]
  },
  {
   "cell_type": "code",
   "execution_count": 13,
   "metadata": {
    "collapsed": false,
    "scrolled": true
   },
   "outputs": [],
   "source": [
    "known_cabin_passengers.drop_duplicates(['PassengerId', 'Deck'], inplace=True) # This gets rid of same passegners with multiple same decks\n",
    "known_cabin_passengers.drop_duplicates(['PassengerId'], keep=False, inplace=True) # This gets rid of same passegners with multiple different decks"
   ]
  },
  {
   "cell_type": "code",
   "execution_count": 14,
   "metadata": {
    "collapsed": false
   },
   "outputs": [
    {
     "data": {
      "text/plain": [
       "C    59\n",
       "B    47\n",
       "D    33\n",
       "E    32\n",
       "A    15\n",
       "F     9\n",
       "G     4\n",
       "T     1\n",
       "Name: Deck, dtype: int64"
      ]
     },
     "execution_count": 14,
     "metadata": {},
     "output_type": "execute_result"
    }
   ],
   "source": [
    "known_cabin_passengers.Deck.value_counts()"
   ]
  },
  {
   "cell_type": "code",
   "execution_count": 15,
   "metadata": {
    "collapsed": false
   },
   "outputs": [
    {
     "name": "stdout",
     "output_type": "stream",
     "text": [
      "<class 'pandas.core.frame.DataFrame'>\n",
      "Int64Index: 200 entries, 1 to 889\n",
      "Data columns (total 16 columns):\n",
      "PassengerId             200 non-null int64\n",
      "Survived                200 non-null bool\n",
      "Pclass                  200 non-null int64\n",
      "Name                    200 non-null object\n",
      "Sex                     200 non-null int64\n",
      "Age                     182 non-null float64\n",
      "SibSp                   200 non-null int64\n",
      "Parch                   200 non-null int64\n",
      "Ticket                  200 non-null object\n",
      "Fare                    200 non-null float64\n",
      "Embarked                198 non-null object\n",
      "Title                   200 non-null int64\n",
      "Family_size             200 non-null int64\n",
      "Family_size_category    200 non-null object\n",
      "Deck                    200 non-null object\n",
      "Cabin                   200 non-null object\n",
      "dtypes: bool(1), float64(2), int64(7), object(6)\n",
      "memory usage: 25.2+ KB\n"
     ]
    }
   ],
   "source": [
    "known_cabin_passengers.info()"
   ]
  },
  {
   "cell_type": "markdown",
   "metadata": {},
   "source": [
    "## 2.2 Investigating Dataset and finding missing / incomplete data\n",
    "\n",
    "For analysis to be meaningful, we need to have a valid dataset, It is important to take care of missing data and to check if any outliers exist in the dataset. In this dataset the only column where we can check for outliers is age, It is not feasible to check for outliers for other columns as we do not have any references to compare against."
   ]
  },
  {
   "cell_type": "code",
   "execution_count": 16,
   "metadata": {
    "collapsed": false
   },
   "outputs": [
    {
     "name": "stdout",
     "output_type": "stream",
     "text": [
      "<class 'pandas.core.frame.DataFrame'>\n",
      "Int64Index: 891 entries, 0 to 890\n",
      "Data columns (total 15 columns):\n",
      "PassengerId             891 non-null int64\n",
      "Survived                891 non-null bool\n",
      "Pclass                  891 non-null int64\n",
      "Name                    891 non-null object\n",
      "Sex                     891 non-null int64\n",
      "Age                     714 non-null float64\n",
      "SibSp                   891 non-null int64\n",
      "Parch                   891 non-null int64\n",
      "Ticket                  891 non-null object\n",
      "Fare                    891 non-null float64\n",
      "Cabin                   204 non-null object\n",
      "Embarked                889 non-null object\n",
      "Title                   891 non-null int64\n",
      "Family_size             891 non-null int64\n",
      "Family_size_category    891 non-null object\n",
      "dtypes: bool(1), float64(2), int64(7), object(5)\n",
      "memory usage: 105.3+ KB\n"
     ]
    }
   ],
   "source": [
    "# info function helps us to find the data types of the columns and also if there are any missing data for the respective columns\n",
    "titanic_dataset.info()"
   ]
  },
  {
   "cell_type": "markdown",
   "metadata": {},
   "source": [
    "There are 891 rows in our dataset, from the above information we can see that the columns Age, Cabin and Embarked have missing data. We can deal with missing data in couple of ways. Simple way is to remove the rows where we have missing data which can cause to lose information which may be important, also as we are dealing with comparatively small dataset and each row corresponds to a unique person on board we cannot remove the data. Instead we try to figure out appropriate values based on mean and median for the missing data.\n",
    "\n",
    "## 2.2.1 Update missing Ages\n",
    "\n"
   ]
  },
  {
   "cell_type": "markdown",
   "metadata": {},
   "source": [
    "From the info output we see that we have information of Age for only 714 people on-board out of 891. Simplest way to calculate the ages for the rest of them would be to use group by of the parameters that effect the Age variable and then subsitutte the missing values with median of that particular group.\n",
    "\n",
    "When we assume that there may be multiple factors that effect Age then it is better to go with Nearest Neighbours classification, as it can consider various Age affecting parameters and calculate the approximate of Age."
   ]
  },
  {
   "cell_type": "code",
   "execution_count": 17,
   "metadata": {
    "collapsed": false
   },
   "outputs": [],
   "source": [
    "# Keeping a copy of the dataset to compare against the updated data\n",
    "reference_age = titanic_dataset.loc[:,['Age']].dropna(axis=0)"
   ]
  },
  {
   "cell_type": "code",
   "execution_count": 18,
   "metadata": {
    "collapsed": true
   },
   "outputs": [],
   "source": [
    "# This function runs KNeighborsClassifier with 5 neighbours considering the variables\n",
    "# 'Pclass', 'SibSp', 'Parch', 'Fare', 'Sex', 'Title', 'Family_size', 'Survived'\n",
    "# First the model gets trained on the data that has no missing information of Age,\n",
    "# The trained model is then used to predict values for the Age.\n",
    "def executeImputeModel():\n",
    "    impute_model = KNeighborsClassifier(n_neighbors=5)\n",
    "    subset_col_dataset = titanic_dataset.loc[:,['Age', 'Pclass', 'SibSp', 'Parch', 'Fare', 'Sex', 'Title', 'Family_size', 'Survived']]\n",
    "    non_na_dataset = subset_col_dataset.dropna(axis=0)\n",
    "    na_dataset = subset_col_dataset[subset_col_dataset['Age'].isnull()]\n",
    "    impute_model.fit(non_na_dataset.ix[:, non_na_dataset.columns != 'Age'], np.asarray(non_na_dataset['Age'] , dtype=\"|S6\"))\n",
    "    imputed_age= pd.DataFrame(impute_model.predict(na_dataset.ix[:, na_dataset.columns != 'Age']), columns=['Age'])\n",
    "    imputed_age.index = na_dataset.index.tolist()\n",
    "    titanic_dataset.loc[imputed_age.index,imputed_age.columns] = imputed_age\n",
    "    titanic_dataset['Age'] = titanic_dataset['Age'].astype(float)\n"
   ]
  },
  {
   "cell_type": "code",
   "execution_count": 19,
   "metadata": {
    "collapsed": false
   },
   "outputs": [],
   "source": [
    "executeImputeModel() #Running the impute function"
   ]
  },
  {
   "cell_type": "markdown",
   "metadata": {},
   "source": [
    "Checking the distribution of age before and after adding the missing data. From the histogram graph we can find out whether adding the missing values did not change the distribution drastically."
   ]
  },
  {
   "cell_type": "code",
   "execution_count": 20,
   "metadata": {
    "collapsed": false
   },
   "outputs": [
    {
     "data": {
      "image/png": "[encoded data removed]",
      "text/plain": [
       "<matplotlib.figure.Figure at 0x9d59828>"
      ]
     },
     "metadata": {},
     "output_type": "display_data"
    }
   ],
   "source": [
    "# Histogram to show the distribution of reference data to the updated data.\n",
    "bins = np.linspace(0, 90, 20)\n",
    "plt.hist(titanic_dataset['Age'], bins, label='Updated impute data')\n",
    "plt.hist(reference_age['Age'], bins, label='Original data')\n",
    "plt.xlabel(\"Age\")\n",
    "plt.ylabel(\"Number of people\")\n",
    "plt.title(\"Distribution of Age (Original vs Updated)\")\n",
    "plt.legend(loc='upper right')\n",
    "plt.show()"
   ]
  },
  {
   "cell_type": "markdown",
   "metadata": {},
   "source": [
    "As, it is observed from the graph above, adding age did not change the distribution very much."
   ]
  },
  {
   "cell_type": "markdown",
   "metadata": {
    "collapsed": false
   },
   "source": [
    "From the graph above the we dont have any outliers for age, We can verify that with Describe command"
   ]
  },
  {
   "cell_type": "code",
   "execution_count": 21,
   "metadata": {
    "collapsed": false
   },
   "outputs": [
    {
     "data": {
      "text/plain": [
       "count    891.000000\n",
       "mean      28.121134\n",
       "std       14.043244\n",
       "min        0.420000\n",
       "25%       19.000000\n",
       "50%       26.000000\n",
       "75%       35.500000\n",
       "max       80.000000\n",
       "Name: Age, dtype: float64"
      ]
     },
     "execution_count": 21,
     "metadata": {},
     "output_type": "execute_result"
    }
   ],
   "source": [
    "titanic_dataset.Age.describe()"
   ]
  },
  {
   "cell_type": "markdown",
   "metadata": {},
   "source": [
    "Age data is under acceptable range.  ( It is unlikely to have age less than 0 and greater than 100 )"
   ]
  },
  {
   "cell_type": "markdown",
   "metadata": {},
   "source": [
    "## 2.3 Data Exploration\n",
    "\n",
    "Let's see the overview of passengers that have survived and deceased."
   ]
  },
  {
   "cell_type": "code",
   "execution_count": 22,
   "metadata": {
    "collapsed": false
   },
   "outputs": [
    {
     "data": {
      "image/png": "[encoded data removed]",
      "text/plain": [
       "<matplotlib.figure.Figure at 0x9d6cac8>"
      ]
     },
     "metadata": {},
     "output_type": "display_data"
    }
   ],
   "source": [
    "#This function makes a plot of 2 subplots (donut graph to show percents and bar graph to show counts)\n",
    "def make_bar_pie(text,labels):\n",
    "    colors = [(60,121,189),(226,33,7)]\n",
    "    col = [[i/255. for i in c] for c in colors]\n",
    "    \n",
    "    #donut graph\n",
    "    ax = plt.subplot(1,2,1)\n",
    "    ax.axis('equal')\n",
    "    sizes = [titanic_dataset[titanic_dataset.Survived == True].shape[0], titanic_dataset[titanic_dataset.Survived == False].shape[0]]\n",
    "    width = 0.35\n",
    "    kwargs = dict(colors=col, startangle=90, autopct='%1.1f%%')\n",
    "    outside = ax.pie(sizes, radius=1.5, pctdistance=1.05-width/2, labels=labels,**kwargs)[0]\n",
    "    plt.setp( outside, width=width, edgecolor='white')\n",
    "\n",
    "    kwargs = dict(size=20, fontweight='bold', va='center')\n",
    "    ax.text(0, 0, text, ha='center', **kwargs)\n",
    "    \n",
    "    # Bar graph\n",
    "    plt.subplot(1,2,2)\n",
    "    plt.subplots_adjust(left=0.125, right= 2.25)\n",
    "    var = titanic_dataset.groupby('Sex').Survived.count()\n",
    "    ax1 = var.plot(kind='bar', width=0.35)\n",
    "    ax1.set_title('Survival Count')\n",
    "    ax1.set_ylabel('Number of people')\n",
    "    ax1.set_xticklabels(labels)\n",
    "    ax1.set_xlabel(\"State of Survival\")\n",
    "    plt.ylim([0, 700])\n",
    "    rects = ax1.patches\n",
    "    # Now make some labels\n",
    "    labels = sizes\n",
    "    for rect, label in zip(rects, labels):\n",
    "        height = rect.get_height()\n",
    "        ax1.text(rect.get_x() + rect.get_width()/2, height + 5, label, ha='center', va='bottom')\n",
    "    for child, c in zip(ax1.get_children(), col):\n",
    "        child.set_color(c) \n",
    "    plt.show()\n",
    "\n",
    "    \n",
    "\n",
    "# Calling the function to plot the graphs\n",
    "make_bar_pie(\"Survival Ratio\",['Survived','Deceased'])"
   ]
  },
  {
   "cell_type": "markdown",
   "metadata": {},
   "source": [
    "From the graphs above,\n",
    "\n",
    "    Survived = 38.4% of 891 people on board have survived = 342\n",
    "    Deceased = 61.6% of 891 people on board have deceased = 549"
   ]
  },
  {
   "cell_type": "markdown",
   "metadata": {
    "collapsed": true
   },
   "source": [
    "### Whether males or females were more likely to survive?\n",
    "\n",
    "Let's visualize the data to get a better sense of the question that is posed. The following code generates 3 graphs, 1) Bar graph that shows the counts 2) pie graph shows ratio Survived vs Deceased 3) another pie to show ratio Males vs Females"
   ]
  },
  {
   "cell_type": "code",
   "execution_count": 23,
   "metadata": {
    "collapsed": false
   },
   "outputs": [],
   "source": [
    "# creating extra variables for graphs\n",
    "total_survived = titanic_dataset[titanic_dataset.Survived == True] \n",
    "male_survived = total_survived[total_survived.Sex == 1].shape[0]\n",
    "female_survived = total_survived[total_survived.Sex == 0].shape[0]\n",
    "\n",
    "total_deceased = titanic_dataset[titanic_dataset.Survived == False]\n",
    "male_deceased = total_deceased[total_deceased.Sex == 1].shape[0]\n",
    "female_deceased = total_deceased[total_deceased.Sex == 0].shape[0]"
   ]
  },
  {
   "cell_type": "code",
   "execution_count": 24,
   "metadata": {
    "collapsed": false,
    "scrolled": false
   },
   "outputs": [
    {
     "data": {
      "image/png": "[encoded data removed]",
      "text/plain": [
       "<matplotlib.figure.Figure at 0xbc6a748>"
      ]
     },
     "metadata": {},
     "output_type": "display_data"
    }
   ],
   "source": [
    "survived_count = (male_survived, female_survived)\n",
    "deceased_count = (male_deceased, female_deceased)\n",
    "\n",
    "males_count = (male_survived, male_deceased)\n",
    "females_count = (female_survived, female_deceased)\n",
    "\n",
    "fig = plt.figure(figsize=(8, 8)) \n",
    "gs = plt.GridSpec(2, 2, width_ratios=[1, 1], height_ratios=[1,1])  # Using Grid Spec to split the graph space for 3 graphs\n",
    "ind = np.arange(2)  # the x locations for the groups\n",
    "width = 0.30       # the width of the bars\n",
    "\n",
    "colors = [(60,121,189),(226,33,7)]\n",
    "col = [[i/255. for i in c] for c in colors]\n",
    "# Bar Graph\n",
    "ax = plt.subplot(gs[0:, 0])\n",
    "rects1 = ax.bar(ind+0.25, survived_count, width, color=col[0])\n",
    "rects2 = ax.bar(ind + width + 0.25, deceased_count, width, color=col[1])\n",
    "\n",
    "# add some text for labels, title and axes ticks\n",
    "ax.set_ylabel('Number of people')\n",
    "ax.set_title('Survival Count by Sex')\n",
    "ax.set_xticks(ind + width + 0.25)\n",
    "ax.set_xticklabels(('Male', 'Female'))\n",
    "ax.legend((rects1[0], rects2[0]), ('Survived', 'Deceased'))\n",
    "def autolabel(rects):\n",
    "    # attach some text labels\n",
    "    for rect in rects:\n",
    "        height = rect.get_height()\n",
    "        ax.text(rect.get_x() + rect.get_width()/2., 1.05*height,\n",
    "                '%d' % int(height),\n",
    "                ha='center', va='bottom')\n",
    "autolabel(rects1)\n",
    "autolabel(rects2)\n",
    "plt.ylim([0, max(list(survived_count)+ list(deceased_count))+100])\n",
    "ax.set_xlabel(\"Gender\")\n",
    "\n",
    "\n",
    "# Pie Graph 1\n",
    "ax1 = plt.subplot(gs[0,1])\n",
    "plt.subplots_adjust(left=0.525, right= 2, top=1.2)\n",
    "labels = 'Males', 'Females'\n",
    "s_colors_rgb = [(186,216,250), (60,121,189)]\n",
    "s_col = [[i/255. for i in c] for c in s_colors_rgb]\n",
    "d_colors_rgb = [(247,135,118),(226,33,7)]\n",
    "d_col = [[i/255. for i in c] for c in d_colors_rgb]\n",
    "explode = (0.1, 0.1)\n",
    "ax1.pie(survived_count, explode=explode, labels=labels, colors=s_col,\n",
    "       autopct='%1.1f%%', shadow=True, startangle=90,\n",
    "       radius=1.5, center=(0, 0), frame=True, pctdistance=0.65)\n",
    "ax1.pie(deceased_count, explode=explode, labels=labels, colors=d_col,\n",
    "       autopct='%1.1f%%', shadow=True, startangle=90,\n",
    "       radius=1.5, center=(4.5, 0), frame=True, pctdistance=0.65, labeldistance=1.2)\n",
    "ax1.set_xticks([0, 4.5])\n",
    "ax1.set_yticks([])\n",
    "ax1.set_xticklabels([\"Survived\", \"Deceased\"])\n",
    "ax1.set_yticklabels([\"\"])\n",
    "ax1.set_xlim((-2.5, 7))\n",
    "ax1.spines['right'].set_visible(False)\n",
    "ax1.spines['top'].set_visible(False)\n",
    "ax1.spines['left'].set_visible(False)\n",
    "ax1.get_xaxis().tick_bottom()\n",
    "ax1.set_ylim((-2.5, 2.5))\n",
    "ax1.set_title('Survival Ratio by Sex')\n",
    "ax1.set_xlabel(\"State of Survival\")\n",
    "# Set aspect ratio to be equal so that pie is drawn as a circle.\n",
    "ax1.set_aspect('equal')\n",
    "\n",
    "# Pie Graph 2\n",
    "ax2 = plt.subplot(gs[1, 1])\n",
    "labels = 'Survived', 'Deceased'\n",
    "\n",
    "ax2.pie(males_count, explode=explode, labels=labels, colors=col,\n",
    "       autopct='%1.1f%%', shadow=True, startangle=90,\n",
    "       radius=1.5, center=(0, 0), frame=True, pctdistance=0.65)\n",
    "ax2.pie(females_count, explode=explode, labels=labels, colors=col,\n",
    "       autopct='%1.1f%%', shadow=True, startangle=0,\n",
    "       radius=1.5, center=(4.5, 0), frame=True, pctdistance=0.65, labeldistance=1.2)\n",
    "\n",
    "ax2.set_xticks([0, 4.5])\n",
    "ax2.set_yticks([])\n",
    "ax2.set_xticklabels([\"Males\", \"Females\"])\n",
    "ax2.set_yticklabels([\"\"])\n",
    "ax2.set_xlim((-2.5, 7))\n",
    "ax2.spines['right'].set_visible(False)\n",
    "ax2.spines['top'].set_visible(False)\n",
    "ax2.spines['left'].set_visible(False)\n",
    "ax2.get_xaxis().tick_bottom()\n",
    "ax2.set_ylim((-2.5, 2.5))\n",
    "ax2.set_title('Males vs Females Survival ratio')\n",
    "# Set aspect ratio to be equal so that pie is drawn as a circle.\n",
    "ax2.set_aspect('equal')\n",
    "ax2.set_xlabel(\"Gender\")\n",
    "plt.show()"
   ]
  },
  {
   "cell_type": "markdown",
   "metadata": {},
   "source": [
    "1) The Bar Graph shows that there are more male passengers than female passengers, It also tells that more females have survived than males.\n",
    "\n",
    "2) The top pie graph shows us that out 100% survived there are only about 31.9% of males and the rest of 68.1% are females.\n",
    "\n",
    "3) The bottom pie graph shows us that out 100% of male passengers 18.9% have survived contrary to 74.2% of females survived in 100% of females.\n",
    "\n",
    "From the graphs above it is a clear indication that females had far better chance of survival than males. To find out if the difference is significant we have to do hypothesis testing.\n",
    "\n",
    "##### Hypothesis\n",
    "H0 = Males and Females have equal chance of survival\n",
    "\n",
    "HA = Males and Females do not have equal chance of survival\n",
    "\n",
    "To tackle this we can use Chi-Square test to find if the survival and sex are independent of each other, If the probability is high which means that the difference which we have seen in the graph is just due to chance. If proabability is very low then the sex and survival are dependent which means either of the gender has higher chances of survival."
   ]
  },
  {
   "cell_type": "code",
   "execution_count": 25,
   "metadata": {
    "collapsed": false
   },
   "outputs": [
    {
     "data": {
      "text/html": [
       "<table border=\"1\" cellpadding=\"3\" cellspacing=\"0\"  style=\"border:1px solid black;border-collapse:collapse;\"><tr><td>Item</td><td>Value</td></tr><tr><td>Chi-Square&nbspTest</td><td>260.7170</td></tr><tr><td>P-Value</td><td>0.0000</td></tr></table>"
      ],
      "text/plain": [
       "<ipy_table.IpyTable at 0x9ffab70>"
      ]
     },
     "execution_count": 25,
     "metadata": {},
     "output_type": "execute_result"
    }
   ],
   "source": [
    "# We can use the chi2_contingency function to calculate the chi square value\n",
    "# the variable survived_count is a list of males survived and females survived\n",
    "# the variable deceased_count is a list of males deceased and females deceased.\n",
    "chi2, p, dof, expected = stats.chi2_contingency([survived_count,deceased_count])\n",
    "results = [\n",
    "    ['Item','Value'],\n",
    "    ['Chi-Square Test',chi2],\n",
    "    ['P-Value', p]\n",
    "]\n",
    "tbl.make_table(results)"
   ]
  },
  {
   "cell_type": "markdown",
   "metadata": {},
   "source": [
    "We see from the table above that the P-Value is 0.0000 which is significant at alpha level = 0.01, \n",
    "\n",
    "###### Hence we reject the Null Hypothesis in favor of Alternative Hypothesis.  Therefore Gender and Survival are dependent variables, from the graphs we can conclude that Females have higher chances of survival."
   ]
  },
  {
   "cell_type": "markdown",
   "metadata": {},
   "source": [
    "### Whether social class had any influence on chances of survival?\n",
    "\n",
    "Let's visualize the data to get a better sense of the question that is posed. The following code generates 3 graphs, 1) Bar graph that shows the counts 2) pie graph shows ratio Survived vs Deceased 3) another pie to show ratio PClass 1 vs 2 vs 3"
   ]
  },
  {
   "cell_type": "code",
   "execution_count": 26,
   "metadata": {
    "collapsed": false
   },
   "outputs": [],
   "source": [
    "# creating extra variables for graphs\n",
    "total_survived = titanic_dataset[titanic_dataset.Survived == True]\n",
    "p1_survived = total_survived[total_survived.Pclass == 1].shape[0]\n",
    "p2_survived = total_survived[total_survived.Pclass == 2].shape[0]\n",
    "p3_survived = total_survived[total_survived.Pclass == 3].shape[0]\n",
    "\n",
    "total_deceased = titanic_dataset[titanic_dataset.Survived == False]\n",
    "p1_deceased = total_deceased[total_deceased.Pclass == 1].shape[0]\n",
    "p2_deceased = total_deceased[total_deceased.Pclass == 2].shape[0]\n",
    "p3_deceased = total_deceased[total_deceased.Pclass == 3].shape[0]"
   ]
  },
  {
   "cell_type": "code",
   "execution_count": 27,
   "metadata": {
    "collapsed": false
   },
   "outputs": [
    {
     "data": {
      "image/png": "[encoded data removed]",
      "text/plain": [
       "<matplotlib.figure.Figure at 0xba9ad68>"
      ]
     },
     "metadata": {},
     "output_type": "display_data"
    }
   ],
   "source": [
    "survived_count = (p1_survived, p2_survived, p3_survived)\n",
    "deceased_count = (p1_deceased, p2_deceased, p3_deceased)\n",
    "\n",
    "p1_count = (p1_survived, p1_deceased)\n",
    "p2_count = (p2_survived, p2_deceased)\n",
    "p3_count = (p3_survived, p3_deceased)\n",
    "\n",
    "fig = plt.figure(figsize=(8, 8)) \n",
    "gs = plt.GridSpec(2, 2, width_ratios=[1, 1], height_ratios=[1,1]) # Using Grid Spec to split the graph space for 3 graphs\n",
    "ind = np.arange(3)  # the x locations for the groups\n",
    "width = 0.30       # the width of the bars\n",
    "colors = [(60,121,189),(226,33,7)]\n",
    "col = [[i/255. for i in c] for c in colors]\n",
    "#Bar Graph    \n",
    "ax = plt.subplot(gs[0:, 0])\n",
    "rects1 = ax.bar(ind+0.25, survived_count, width, color=col[0])\n",
    "rects2 = ax.bar(ind + width + 0.25, deceased_count, width, color=col[1])\n",
    "# add some text for labels, title and axes ticks\n",
    "ax.set_ylabel('Number of people')\n",
    "ax.set_title('Survival Count by Class')\n",
    "ax.set_xticks(ind + width + 0.25)\n",
    "ax.set_xticklabels(('1st Class', '2nd Class', '3rd Class'))\n",
    "ax.legend((rects1[0], rects2[0]), ('Survived', 'Deceased'), loc='best')\n",
    "def autolabel(rects):\n",
    "    # attach some text labels\n",
    "    for rect in rects:\n",
    "        height = rect.get_height()\n",
    "        ax.text(rect.get_x() + rect.get_width()/2., 1.05*height,\n",
    "                '%d' % int(height),\n",
    "                ha='center', va='bottom')\n",
    "autolabel(rects1)\n",
    "autolabel(rects2)\n",
    "plt.ylim([0, max(list(survived_count)+ list(deceased_count))+100])\n",
    "ax.set_xlabel(\"Social Class\")\n",
    "\n",
    "# Pie Grpah 1\n",
    "ax1 = plt.subplot(gs[0,1])\n",
    "plt.subplots_adjust(left=0.525, right= 2, top=1.0)\n",
    "labels = '1st Class', '2nd Class', '3rd Class'\n",
    "s_colors_rgb = [(186,216,250), (60,121,189), (190,216,206) ]\n",
    "s_col = [[i/255. for i in c] for c in s_colors_rgb]\n",
    "d_colors_rgb = [(247,135,118),(226,33,7), (250,157,150)]\n",
    "d_col = [[i/255. for i in c] for c in d_colors_rgb]\n",
    "explode = (0.1, 0.1, 0.1)\n",
    "ax1.pie(survived_count, explode=explode, labels=labels, colors=s_col,\n",
    "       autopct='%1.1f%%', shadow=True, startangle=90,\n",
    "       radius=2.7, center=(0, 0), frame=True, pctdistance=0.65)\n",
    "ax1.pie(deceased_count, explode=explode, labels=labels, colors=d_col,\n",
    "       autopct='%1.1f%%', shadow=True, startangle=0,\n",
    "       radius=2.7, center=(8.5, 0), frame=True, pctdistance=0.65, labeldistance=1.25)\n",
    "ax1.set_xticks([0, 8.5])\n",
    "ax1.set_yticks([])\n",
    "ax1.set_xticklabels([\"Survived\", \"Deceased\"])\n",
    "ax1.set_yticklabels([\"\"])\n",
    "ax1.set_xlim((-3.5, 10.5))\n",
    "ax1.set_ylim((-3.5, 3.5))\n",
    "ax1.spines['right'].set_visible(False)\n",
    "ax1.spines['top'].set_visible(False)\n",
    "ax1.spines['left'].set_visible(False)\n",
    "ax1.get_xaxis().tick_bottom()\n",
    "ax1.set_title('Survival rates by class')\n",
    "ax1.set_xlabel(\"State of Survival\")\n",
    "# Set aspect ratio to be equal so that pie is drawn as a circle.\n",
    "ax1.set_aspect('equal')\n",
    "\n",
    "# Pie Graph 2\n",
    "ax2 = plt.subplot(gs[1, 1])\n",
    "labels = 'Survived', 'Deceased'\n",
    "s_colors_rgb = [(186,216,250), (60,121,189), (190,216,206) ]\n",
    "s_col = [[i/255. for i in c] for c in s_colors_rgb]\n",
    "d_colors_rgb = [(247,135,118),(226,33,7), (250,157,150)]\n",
    "d_col = [[i/255. for i in c] for c in d_colors_rgb]\n",
    "explode = (0.1, 0.1)\n",
    "ax2.pie(p1_count, explode=explode, labels=labels, colors=col,\n",
    "       autopct='%1.1f%%', shadow=True, startangle=0,\n",
    "       radius=2.5, center=(0, 0), frame=True, pctdistance=0.65)\n",
    "ax2.pie(p2_count, explode=explode, labels=labels, colors=col,\n",
    "       autopct='%1.1f%%', shadow=True, startangle=0,\n",
    "       radius=2.5, center=(6, 0), frame=True, pctdistance=0.65)\n",
    "ax2.pie(p3_count, explode=explode, labels=labels, colors=col,\n",
    "       autopct='%1.1f%%', shadow=True, startangle=0,\n",
    "       radius=2.5, center=(12, 0), frame=True, pctdistance=0.65, labeldistance=1.25)\n",
    "ax2.set_xticks([0, 6, 12])\n",
    "ax2.set_yticks([])\n",
    "ax2.set_xticklabels(['1st Class', '2nd Class', '3rd Class'])\n",
    "ax2.set_yticklabels([\"\"])\n",
    "ax2.set_xlim((-3.5, 15.5))\n",
    "ax2.set_ylim((-3.5, 4.5))\n",
    "ax2.spines['right'].set_visible(False)\n",
    "ax2.spines['top'].set_visible(False)\n",
    "ax2.spines['left'].set_visible(False)\n",
    "ax2.get_xaxis().tick_bottom()\n",
    "ax2.set_xlabel(\"Social Class\")\n",
    "ax2.set_title('Survival rates grouped by class')\n",
    "# Set aspect ratio to be equal so that pie is drawn as a circle.\n",
    "ax2.set_aspect('equal')\n",
    "\n",
    "# Display graphs\n",
    "plt.show()"
   ]
  },
  {
   "cell_type": "markdown",
   "metadata": {},
   "source": [
    "1) The Bar Graph shows that there are more 3rd classs passengers than 1st class and 2nd class, It also tells that more 3rd class passengers are deceased than other two classes.\n",
    "\n",
    "2) The top pie graph shows us that out 100% survived there are about 39.8% of 1st class, 34.8% of second class and the rest of 25.4% are 3rd class. These are approximately same but 100% deceased graph clearly show that 67.8% of 3rd class people are deceased.\n",
    "\n",
    "3) The bottom 3 pie graphs show declined rate of survivability as we move from 1st class to 3rd class.\n",
    "\n",
    "From the graphs above it is a clear indication that 1st class had better chance of survival than 2nd class and 3rd class, 2nd class had better chances of survival over 3rd class. To find out if the difference is significant we have to do hypothesis testing.\n",
    "\n",
    "##### Hypothesis\n",
    "H0 = All Social Class have equal chance of survival\n",
    "\n",
    "HA = All Social Class do not have equal chance of survival\n",
    "\n",
    "To tackle this we can use Chi-Square test to find if the survival and social class are independent of each other."
   ]
  },
  {
   "cell_type": "code",
   "execution_count": 28,
   "metadata": {
    "collapsed": false,
    "scrolled": true
   },
   "outputs": [
    {
     "data": {
      "text/html": [
       "<table border=\"1\" cellpadding=\"3\" cellspacing=\"0\"  style=\"border:1px solid black;border-collapse:collapse;\"><tr><td>Item</td><td>Value</td></tr><tr><td>Chi-Square&nbspTest</td><td>102.8890</td></tr><tr><td>P-Value</td><td>0.0000</td></tr></table>"
      ],
      "text/plain": [
       "<ipy_table.IpyTable at 0x9e15358>"
      ]
     },
     "execution_count": 28,
     "metadata": {},
     "output_type": "execute_result"
    }
   ],
   "source": [
    "chi2, p, dof, expected = stats.chi2_contingency([survived_count,deceased_count])\n",
    "results = [\n",
    "    ['Item','Value'],\n",
    "    ['Chi-Square Test',chi2],\n",
    "    ['P-Value', p]\n",
    "]\n",
    "tbl.make_table(results)"
   ]
  },
  {
   "cell_type": "markdown",
   "metadata": {},
   "source": [
    "We see from the table above that the P-Value is 0.0000 which is significant at alpha level = 0.01, \n",
    "\n",
    "###### Hence we reject the Null Hypothesis in favor of Alternative Hypothesis.  Therefore Social Class and Survival are dependent variables, from the graphs we can conclude that 1st class passengers have higher chances of survival."
   ]
  },
  {
   "cell_type": "markdown",
   "metadata": {},
   "source": [
    "### Whether a particular age group were more likely to survive?\n",
    "\n",
    "As age is a numeric variable unlike sex and social class, approach to this problem will be based on distribution of age.To find out if age and survival are independent variables we have to split the age into bins and assign each bin with a label, these labels can then be compared with survived variable to see whether we have some bins which are more likely to survive.\n"
   ]
  },
  {
   "cell_type": "code",
   "execution_count": 29,
   "metadata": {
    "collapsed": false
   },
   "outputs": [],
   "source": [
    "# This function creates bins and assigns to thier respective age label based on the binsize\n",
    "# function returns age_labels variable which is list of all distinct age groups\n",
    "# age_label will be used by build_age_group_graph function to plot graphs.\n",
    "def create_bins(binsize):\n",
    "    age_labels = []\n",
    "    end_age_array = [0]\n",
    "    max_age = max(titanic_dataset.Age)\n",
    "    min_age = 1\n",
    "    start_age = 0\n",
    "    end_age = -1\n",
    "    num_bins = int (ceil(((ceil(float(max_age/10.0)))*10) / binsize))\n",
    "    for i in range(num_bins):\n",
    "        start_age = end_age + 1\n",
    "        end_age = start_age + binsize - 1\n",
    "        age_labels.append(str(start_age)+\"-\"+str(end_age))\n",
    "        end_age_array.append(end_age)\n",
    "    titanic_dataset['age_group'] = pd.cut(titanic_dataset.Age, range(0, int(ceil(float(max(titanic_dataset.Age)) / binsize) *binsize) + 1, binsize), right=False, labels=age_labels)\n",
    "    return age_labels"
   ]
  },
  {
   "cell_type": "code",
   "execution_count": 30,
   "metadata": {
    "collapsed": false
   },
   "outputs": [],
   "source": [
    "# This function takes the age_labels variable generated from create_bins functions and creates two bar graphs\n",
    "# first bar graph shows the count and second shows the percentage\n",
    "def build_age_group_graph(age_labels):    \n",
    "    survivors_data = titanic_dataset[titanic_dataset.Survived==True]\n",
    "    non_survivors_data = titanic_dataset[titanic_dataset.Survived==False]\n",
    "    # calculate values for each survival status\n",
    "    survivors_age_group = survivors_data.groupby(['age_group']).size().values\n",
    "    non_survivors_age_group = non_survivors_data.groupby(['age_group']).size().values\n",
    "    # calculate totals for percentates\n",
    "    totals = survivors_age_group + non_survivors_age_group\n",
    "    \n",
    "    # use calculate_percentage_function to calculate percentage of the total\n",
    "    data1_percentages = np.true_divide(survivors_age_group,totals) * 100\n",
    "    data2_percentages = np.true_divide(non_survivors_age_group,totals) * 100\n",
    "    \n",
    "    tick_spacing = np.array(range(int(titanic_dataset.age_group.value_counts().shape[0])))+0.4\n",
    "    f, (ax1, ax2) = plt.subplots(1, 2, figsize=(10,5))\n",
    "    # plot chart for count of survivors by class\n",
    "    ax1.bar(range(len(survivors_age_group)), survivors_age_group, label='Survivors',color=col[0])\n",
    "    ax1.bar(range(len(non_survivors_age_group)), non_survivors_age_group, bottom=survivors_age_group, label='Non-Survivors', color=col[1])\n",
    "    plt.sca(ax1)\n",
    "    plt.xticks(tick_spacing, age_labels )\n",
    "    ax1.set_ylabel(\"Count\")\n",
    "    ax1.set_xlabel(\"Age group\")\n",
    "    ax1.set_title(\"Count of survivors by age group\",fontsize=14)\n",
    "    plt.legend(loc='upper right')\n",
    "    \n",
    "    # plot chart for percentage of survivors by class\n",
    "    ax2.bar(range(len(data1_percentages)), data1_percentages, color=col[0])\n",
    "    ax2.bar(range(len(data2_percentages)), data2_percentages, bottom=data1_percentages, color=col[1])\n",
    "    plt.sca(ax2)\n",
    "    plt.xticks(tick_spacing,  age_labels)\n",
    "    ax2.set_ylabel(\"Percentage\")\n",
    "    ax2.set_xlabel(\"Age group\")\n",
    "    ax2.set_title(\"% of survivors by age group\",fontsize=14)"
   ]
  },
  {
   "cell_type": "code",
   "execution_count": 31,
   "metadata": {
    "collapsed": true
   },
   "outputs": [],
   "source": [
    "# Function calculates the chi square value and p-value which returned as a table.\n",
    "def calculate_chi_square_for_age():\n",
    "    table = pd.crosstab([titanic_dataset['Survived']], titanic_dataset['age_group'])\n",
    "    chi2, p, dof, expected = stats.chi2_contingency(table.values)\n",
    "    results = [\n",
    "        ['Item','Value'],\n",
    "        ['Chi-Square Test',chi2],\n",
    "        ['P-Value', p]\n",
    "    ]\n",
    "    return tbl.make_table(results)"
   ]
  },
  {
   "cell_type": "code",
   "execution_count": 32,
   "metadata": {
    "collapsed": false
   },
   "outputs": [
    {
     "data": {
      "image/png": "[encoded data removed]",
      "text/plain": [
       "<matplotlib.figure.Figure at 0x9f44828>"
      ]
     },
     "metadata": {},
     "output_type": "display_data"
    }
   ],
   "source": [
    "build_age_group_graph(create_bins(10)) # Let's visualize the data for bin size of 10"
   ]
  },
  {
   "cell_type": "markdown",
   "metadata": {},
   "source": [
    "1) From the graphs above we can see that there are more passengers in the age group 20-29\n",
    "\n",
    "2) % Survived is max for the age group 0-9 (Makes sense because kids might have given more preference when boarding the life boats)\n",
    "\n",
    "Let's do hypothesis testing to see if the difference is just due to chance or there is dependency of age group on survival\n",
    "\n",
    "##### Hypothesis\n",
    "H0 = All Age groups have equal chance of survival\n",
    "\n",
    "HA = All Age groups do not have equal chance of survival\n",
    "\n",
    "To tackle this we can use Chi-Square test to find if the survival and Age_group are independent of each other."
   ]
  },
  {
   "cell_type": "code",
   "execution_count": 33,
   "metadata": {
    "collapsed": false
   },
   "outputs": [
    {
     "data": {
      "text/html": [
       "<table border=\"1\" cellpadding=\"3\" cellspacing=\"0\"  style=\"border:1px solid black;border-collapse:collapse;\"><tr><td>Item</td><td>Value</td></tr><tr><td>Chi-Square&nbspTest</td><td>25.1894</td></tr><tr><td>P-Value</td><td>0.0007</td></tr></table>"
      ],
      "text/plain": [
       "<ipy_table.IpyTable at 0xc378a20>"
      ]
     },
     "execution_count": 33,
     "metadata": {},
     "output_type": "execute_result"
    }
   ],
   "source": [
    "calculate_chi_square_for_age() # Calling the function to calculate the chisqaure and pvalue"
   ]
  },
  {
   "cell_type": "markdown",
   "metadata": {},
   "source": [
    "We see from the table above that the P-Value is 0.0007 which is significant at alpha level = 0.01, \n",
    "\n",
    "###### Hence we reject the Null Hypothesis in favor of Alternative Hypothesis. For binsize of 10 we have significant between chances of survival for each group, Group that is most likely to survive is 0-9 age group.\n",
    "\n",
    "But this cannot mean that Age and Survival rates have siginficant relationship for all bin sizes, Lets look at bin size 20 and comment on the hypothesis test again."
   ]
  },
  {
   "cell_type": "code",
   "execution_count": 34,
   "metadata": {
    "collapsed": false
   },
   "outputs": [
    {
     "data": {
      "image/png": "[encoded data removed]",
      "text/plain": [
       "<matplotlib.figure.Figure at 0xc39d630>"
      ]
     },
     "metadata": {},
     "output_type": "display_data"
    }
   ],
   "source": [
    "build_age_group_graph(create_bins(20))"
   ]
  },
  {
   "cell_type": "markdown",
   "metadata": {},
   "source": [
    "From the 2nd bar graph above we can see for bin size 20 all the groups have same chances of survival, Let's confirm this using Chi Square test."
   ]
  },
  {
   "cell_type": "code",
   "execution_count": 35,
   "metadata": {
    "collapsed": false
   },
   "outputs": [
    {
     "data": {
      "text/html": [
       "<table border=\"1\" cellpadding=\"3\" cellspacing=\"0\"  style=\"border:1px solid black;border-collapse:collapse;\"><tr><td>Item</td><td>Value</td></tr><tr><td>Chi-Square&nbspTest</td><td>2.5576</td></tr><tr><td>P-Value</td><td>0.4650</td></tr></table>"
      ],
      "text/plain": [
       "<ipy_table.IpyTable at 0x9e1a7b8>"
      ]
     },
     "execution_count": 35,
     "metadata": {},
     "output_type": "execute_result"
    }
   ],
   "source": [
    "calculate_chi_square_for_age() # Calling the function to calculate the chisqaure and pvalue"
   ]
  },
  {
   "cell_type": "markdown",
   "metadata": {},
   "source": [
    "We see from the table above that the P-Value is 0.4650 which is not significant at alpha level = 0.05.\n",
    "\n",
    "###### Hence we cannot reject the Null Hypothesis. For binsize of 20 all age groups have equal chances of survival.\n",
    "\n",
    "Our Objective of the question is to find if there are any particular age group that had more chances of survival, From the tests conducted above we see that binsize plays a crucial role to answer if this is just by chance or if there was preference given for particular age group.\n",
    "\n",
    "The function that we coded above to create bins start from 0, this will be limitiation. Let's assume the age group that most chance of survival is 8-17, but from the function we only get groups 0-9 and 10-19 with window size 10. So, we need to create a sliding binsize concept that looks at the best consecutive age groups based on binsize. \n",
    "\n",
    "with bin size 3 for ages 0-5 we get 4 groups as shown below\n",
    "\n",
    "    G1               G2               G3               G4\n",
    "    [0 1 2] 3 4 5    0 [1 2 3] 4 5    0 1 [2 3 4] 5    0 1 2 [3 4 5]\n",
    "We now compare which group has the max percent of survival.\n",
    "\n",
    "The function below calculates the best age group which has highest chance of survival for various binsizes."
   ]
  },
  {
   "cell_type": "code",
   "execution_count": 36,
   "metadata": {
    "collapsed": false
   },
   "outputs": [
    {
     "name": "stdout",
     "output_type": "stream",
     "text": [
      "for Bin Size: 30, Range: 31-60, total num of passengers/crew in this range of age group: 295, of which 42.37% have survived\n",
      "for Bin Size: 25, Range: 31-55, total num of passengers/crew in this range of age group: 277, of which 42.6% have survived\n",
      "for Bin Size: 20, Range: 48-67, total num of passengers/crew in this range of age group: 86, of which 43.02% have survived\n",
      "for Bin Size: 15, Range: 0-14, total num of passengers/crew in this range of age group: 94, of which 55.32% have survived\n",
      "for Bin Size: 10, Range: 0-9, total num of passengers/crew in this range of age group: 73, of which 58.9% have survived\n",
      "for Bin Size: 5, Range: 3-7, total num of passengers/crew in this range of age group: 30, of which 70.0% have survived\n",
      "for Bin Size: 3, Range: 3-5, total num of passengers/crew in this range of age group: 24, of which 75.0% have survived\n",
      "for Bin Size: 2, Range: 12-13, total num of passengers/crew in this range of age group: 5, of which 100.0% have survived\n"
     ]
    }
   ],
   "source": [
    "from itertools import tee, izip\n",
    "\n",
    "def window(iterable, size):\n",
    "    iters = tee(iterable, size)\n",
    "    for i in xrange(1, size):\n",
    "        for each in iters[i:]:\n",
    "            next(each, None)\n",
    "    return izip(*iters)\n",
    "for window_size in [30,25,20,15,10,5,3,2]:\n",
    "    percent_survived_list = []\n",
    "    temp_value = []\n",
    "    for each in window(xrange(int(max(titanic_dataset.Age))), window_size):\n",
    "        test = titanic_dataset[titanic_dataset.Age.between(min(each), max(each), inclusive=True)]\n",
    "        survivors_data = test[test.Survived==True]\n",
    "        non_survivors_data = test[test.Survived==False]\n",
    "        key_string = str(str(min(each))+\"-\"+str(max(each)))\n",
    "        try:\n",
    "            total = int(survivors_data.shape[0] + non_survivors_data.shape[0])\n",
    "            percent_survived = float(survivors_data.shape[0])/total\n",
    "            value = [{key_string: [{\"total\": total}, {\"percent_survived\":percent_survived}]}]\n",
    "            percent_survived_list.append(percent_survived)\n",
    "            temp_value.append(value)\n",
    "        except:\n",
    "            percent_survived_list.append(float(0))\n",
    "            value = [{key_string: [{\"total\": total}, {\"percent_survived\":0}]}]\n",
    "            temp_value.append(value)\n",
    "            \n",
    "    max_range_age = temp_value[percent_survived_list.index(max(percent_survived_list))][0]\n",
    "    \n",
    "    print \"for Bin Size: \"+str(window_size)+\", Range: \"+str(max_range_age.keys()[0]) + \", total num of passengers/crew in this range of age group: \" + str(max_range_age.values()[0][0][\"total\"]) + \", of which \" + str(round(max_range_age.values()[0][1][\"percent_survived\"] *100, 2) ) +\"% have survived\"  "
   ]
  },
  {
   "cell_type": "markdown",
   "metadata": {},
   "source": [
    "From the output above we can see which age group has the max survival percentage for each window size. For binsize of 15 we can see that 0-14 age group has the highest rate of survival, which also suggests that kids were given preference when boarding the life boats."
   ]
  },
  {
   "cell_type": "markdown",
   "metadata": {},
   "source": [
    "### Whether families on-boards have more chances of survival?\n",
    "\n",
    "For this particular question we are going to look at how survival chance varies for singles to Small families to Large families. Let's see the count of passengers across 3 categories and visualize data in the graph below."
   ]
  },
  {
   "cell_type": "code",
   "execution_count": 37,
   "metadata": {
    "collapsed": false
   },
   "outputs": [
    {
     "data": {
      "text/html": [
       "<div>\n",
       "<table border=\"1\" class=\"dataframe\">\n",
       "  <thead>\n",
       "    <tr style=\"text-align: right;\">\n",
       "      <th>Survived</th>\n",
       "      <th>False</th>\n",
       "      <th>True</th>\n",
       "      <th>All</th>\n",
       "    </tr>\n",
       "    <tr>\n",
       "      <th>Family_size_category</th>\n",
       "      <th></th>\n",
       "      <th></th>\n",
       "      <th></th>\n",
       "    </tr>\n",
       "  </thead>\n",
       "  <tbody>\n",
       "    <tr>\n",
       "      <th>large</th>\n",
       "      <td>52</td>\n",
       "      <td>10</td>\n",
       "      <td>62</td>\n",
       "    </tr>\n",
       "    <tr>\n",
       "      <th>single</th>\n",
       "      <td>374</td>\n",
       "      <td>163</td>\n",
       "      <td>537</td>\n",
       "    </tr>\n",
       "    <tr>\n",
       "      <th>small</th>\n",
       "      <td>123</td>\n",
       "      <td>169</td>\n",
       "      <td>292</td>\n",
       "    </tr>\n",
       "    <tr>\n",
       "      <th>All</th>\n",
       "      <td>549</td>\n",
       "      <td>342</td>\n",
       "      <td>891</td>\n",
       "    </tr>\n",
       "  </tbody>\n",
       "</table>\n",
       "</div>"
      ],
      "text/plain": [
       "Survived              False  True  All\n",
       "Family_size_category                  \n",
       "large                    52    10   62\n",
       "single                  374   163  537\n",
       "small                   123   169  292\n",
       "All                     549   342  891"
      ]
     },
     "execution_count": 37,
     "metadata": {},
     "output_type": "execute_result"
    }
   ],
   "source": [
    "table = pd.crosstab(titanic_dataset['Family_size_category'],titanic_dataset['Survived'], margins=True)\n",
    "table"
   ]
  },
  {
   "cell_type": "code",
   "execution_count": 38,
   "metadata": {
    "collapsed": true
   },
   "outputs": [],
   "source": [
    "# This function is just used to produce detailed lables for the mosaic graph\n",
    "def return_label_mosaic(k):\n",
    "    family_size_category = k[0]\n",
    "    survived_count = table.loc[[k[0]], True].values[0]\n",
    "    dead_count = table.loc[[k[0]], False].values[0]\n",
    "    all_family_count = table.loc[[k[0]], 'All'].values[0]\n",
    "    percent_survived = round ((float(survived_count)/float(all_family_count))*100.0, 2)\n",
    "    percent_dead = 100 - percent_survived\n",
    "    return_label = ''\n",
    "    family_tmp = '' if k[0] == 'single' else ' familes'\n",
    "    survived_tmp_string = ' Survived ' if k[1] == 'True' else ' Dead '\n",
    "    count = survived_count if k[1] == 'True' else dead_count\n",
    "    percent = percent_survived if k[1] == 'True' else percent_dead\n",
    "    return_label = str(count) + survived_tmp_string + 'out of ' + str(all_family_count) + '\\n' + str(percent) + '% of ' + k[0] + family_tmp+ survived_tmp_string\n",
    "    return return_label"
   ]
  },
  {
   "cell_type": "code",
   "execution_count": 39,
   "metadata": {
    "collapsed": false
   },
   "outputs": [
    {
     "data": {
      "image/png": "[encoded data removed]",
      "text/plain": [
       "<matplotlib.figure.Figure at 0xc58a160>"
      ]
     },
     "metadata": {},
     "output_type": "display_data"
    }
   ],
   "source": [
    "from statsmodels.graphics.mosaicplot import mosaic\n",
    "\n",
    "# Mosaic graph\n",
    "fig = plt.figure(figsize=(14, 8))\n",
    "ax = plt.subplot()\n",
    "props = lambda key: {'color': col[1] if key[1] == 'False' else col[0]}\n",
    "labelizer = lambda k : return_label_mosaic(k)\n",
    "ax.set_xlabel(\"Family Size\")\n",
    "ax.set_ylabel(\"Survived\")\n",
    "graph = mosaic(titanic_dataset, ['Family_size_category', 'Survived'], ax=ax ,properties= props, labelizer=labelizer,title='Family Size by Survival')\n"
   ]
  },
  {
   "cell_type": "markdown",
   "metadata": {},
   "source": [
    "The above graph shows the information grouped by family size, out of 100% of small families 42.12% of them are dead.\n",
    "\n",
    "Key point to observer from the graph above is Small family has 57.88% chances of survival, followed by Singles with 30.35% and large families with 16.13%\n",
    "\n",
    "Psurvival(Small families) > Psurvival(Single) > Psurvival(Large families)\n",
    "\n",
    "Let's do hypothesis testing to see if the difference is just due to chance or there is dependency of family size on survival\n",
    "\n",
    "##### Hypothesis\n",
    "H0 = All family size have equal chance of survival\n",
    "\n",
    "HA = All family size do not have equal chance of survival\n",
    "\n",
    "To tackle this we can use Chi-Square test to find if the survival and family size are independent of each other."
   ]
  },
  {
   "cell_type": "code",
   "execution_count": 40,
   "metadata": {
    "collapsed": false
   },
   "outputs": [
    {
     "data": {
      "text/html": [
       "<div>\n",
       "<table border=\"1\" class=\"dataframe\">\n",
       "  <thead>\n",
       "    <tr style=\"text-align: right;\">\n",
       "      <th>Survived</th>\n",
       "      <th>False</th>\n",
       "      <th>True</th>\n",
       "    </tr>\n",
       "    <tr>\n",
       "      <th>Family_size_category</th>\n",
       "      <th></th>\n",
       "      <th></th>\n",
       "    </tr>\n",
       "  </thead>\n",
       "  <tbody>\n",
       "    <tr>\n",
       "      <th>large</th>\n",
       "      <td>52</td>\n",
       "      <td>10</td>\n",
       "    </tr>\n",
       "    <tr>\n",
       "      <th>single</th>\n",
       "      <td>374</td>\n",
       "      <td>163</td>\n",
       "    </tr>\n",
       "    <tr>\n",
       "      <th>small</th>\n",
       "      <td>123</td>\n",
       "      <td>169</td>\n",
       "    </tr>\n",
       "  </tbody>\n",
       "</table>\n",
       "</div>"
      ],
      "text/plain": [
       "Survived              False  True \n",
       "Family_size_category              \n",
       "large                    52     10\n",
       "single                  374    163\n",
       "small                   123    169"
      ]
     },
     "execution_count": 40,
     "metadata": {},
     "output_type": "execute_result"
    }
   ],
   "source": [
    "table = table.ix[[0,1,2], table.columns != 'All']\n",
    "table"
   ]
  },
  {
   "cell_type": "code",
   "execution_count": 41,
   "metadata": {
    "collapsed": false
   },
   "outputs": [
    {
     "data": {
      "text/html": [
       "<table border=\"1\" cellpadding=\"3\" cellspacing=\"0\"  style=\"border:1px solid black;border-collapse:collapse;\"><tr><td>Item</td><td>Value</td></tr><tr><td>Chi-Square&nbspTest</td><td>74.5372</td></tr><tr><td>P-Value</td><td>0.0000</td></tr></table>"
      ],
      "text/plain": [
       "<ipy_table.IpyTable at 0x9fe1c50>"
      ]
     },
     "execution_count": 41,
     "metadata": {},
     "output_type": "execute_result"
    }
   ],
   "source": [
    "chi2, p, dof, expected = stats.chi2_contingency(table.values)\n",
    "results = [\n",
    "    ['Item','Value'],\n",
    "    ['Chi-Square Test',chi2],\n",
    "    ['P-Value', p]\n",
    "]\n",
    "tbl.make_table(results)"
   ]
  },
  {
   "cell_type": "markdown",
   "metadata": {},
   "source": [
    "We see from the table above that the P-Value is 0.0000 which is significant at alpha level = 0.01, \n",
    "\n",
    "###### Hence we reject the Null Hypothesis in favor of Alternative Hypothesis. Therefore Family Size and Survival are dependent variables, from the graphs we can conclude that small families have higher chances of survival."
   ]
  },
  {
   "cell_type": "markdown",
   "metadata": {},
   "source": [
    "### Whether there was a variation in survival rate for different decks?\n",
    "\n",
    "For this particular question we are going to look at how survival chance varies for passengers on different. Let's see the count of passengers across 3 categories and visualize data in the graph below.\n",
    "\n",
    "This is interesting because lifeboats on titanic are more accessible by top decks on titanic. Also, we do not have information of decks for all the passengers in dataset, which means our analysis is restricted to the data that is available to us."
   ]
  },
  {
   "cell_type": "code",
   "execution_count": 42,
   "metadata": {
    "collapsed": false
   },
   "outputs": [
    {
     "data": {
      "text/html": [
       "<div>\n",
       "<table border=\"1\" class=\"dataframe\">\n",
       "  <thead>\n",
       "    <tr style=\"text-align: right;\">\n",
       "      <th>Survived</th>\n",
       "      <th>False</th>\n",
       "      <th>True</th>\n",
       "    </tr>\n",
       "    <tr>\n",
       "      <th>Deck</th>\n",
       "      <th></th>\n",
       "      <th></th>\n",
       "    </tr>\n",
       "  </thead>\n",
       "  <tbody>\n",
       "    <tr>\n",
       "      <th>A</th>\n",
       "      <td>8</td>\n",
       "      <td>7</td>\n",
       "    </tr>\n",
       "    <tr>\n",
       "      <th>B</th>\n",
       "      <td>12</td>\n",
       "      <td>35</td>\n",
       "    </tr>\n",
       "    <tr>\n",
       "      <th>C</th>\n",
       "      <td>24</td>\n",
       "      <td>35</td>\n",
       "    </tr>\n",
       "    <tr>\n",
       "      <th>D</th>\n",
       "      <td>8</td>\n",
       "      <td>25</td>\n",
       "    </tr>\n",
       "    <tr>\n",
       "      <th>E</th>\n",
       "      <td>8</td>\n",
       "      <td>24</td>\n",
       "    </tr>\n",
       "    <tr>\n",
       "      <th>F</th>\n",
       "      <td>2</td>\n",
       "      <td>7</td>\n",
       "    </tr>\n",
       "    <tr>\n",
       "      <th>G</th>\n",
       "      <td>2</td>\n",
       "      <td>2</td>\n",
       "    </tr>\n",
       "    <tr>\n",
       "      <th>T</th>\n",
       "      <td>1</td>\n",
       "      <td>0</td>\n",
       "    </tr>\n",
       "  </tbody>\n",
       "</table>\n",
       "</div>"
      ],
      "text/plain": [
       "Survived  False  True \n",
       "Deck                  \n",
       "A             8      7\n",
       "B            12     35\n",
       "C            24     35\n",
       "D             8     25\n",
       "E             8     24\n",
       "F             2      7\n",
       "G             2      2\n",
       "T             1      0"
      ]
     },
     "execution_count": 42,
     "metadata": {},
     "output_type": "execute_result"
    }
   ],
   "source": [
    "table = pd.crosstab(known_cabin_passengers['Deck'],known_cabin_passengers['Survived'])\n",
    "table"
   ]
  },
  {
   "cell_type": "code",
   "execution_count": 43,
   "metadata": {
    "collapsed": false
   },
   "outputs": [
    {
     "data": {
      "image/png": "[encoded data removed]",
      "text/plain": [
       "<matplotlib.figure.Figure at 0xdadcef0>"
      ]
     },
     "metadata": {},
     "output_type": "display_data"
    }
   ],
   "source": [
    "# calculate values for each survival decks\n",
    "survivors_deck_group = table[True].values\n",
    "non_survivors_deck_group = table[False].values\n",
    "# calculate totals for percentates\n",
    "totals = survivors_deck_group + non_survivors_deck_group \n",
    "# use calculate_percentage_function to calculate percentage of the total\n",
    "data1_percentages = np.true_divide(survivors_deck_group,totals) * 100\n",
    "data2_percentages = np.true_divide(non_survivors_deck_group,totals) * 100\n",
    "    \n",
    "tick_spacing = np.array(range(int(table.shape[0])))+0.4\n",
    "deck_lables = table.index.values\n",
    "# Bar graph 1\n",
    "f, (ax1, ax2) = plt.subplots(1, 2, figsize=(14,6))\n",
    "# plot chart for count of survivors by decks\n",
    "rects1_1 = ax1.bar(range(len(survivors_deck_group)), survivors_deck_group, label='Survivors',color=col[0])\n",
    "rects2_1 = ax1.bar(range(len(non_survivors_deck_group)), non_survivors_deck_group, bottom=survivors_deck_group, label='Non-Survivors', color=col[1])\n",
    "plt.sca(ax1)\n",
    "plt.xticks(tick_spacing, deck_lables )\n",
    "ax1.set_ylabel(\"Count\")\n",
    "ax1.set_xlabel(\"Decks\")\n",
    "ax1.set_title(\"Count of survivors by Deck\",fontsize=14)\n",
    "plt.legend(loc='best')\n",
    "plt.ylim([0, max(totals) + 10])\n",
    "def autolabel(rects):\n",
    "    # attach some text labels\n",
    "    for rect1, rect2 in rects:\n",
    "        height1 = rect1.get_height()\n",
    "        height2 = rect2.get_height()\n",
    "        if height1 != 0:\n",
    "            ax1.text(rect1.get_x() + rect1.get_width()/2., 0.3*height1,\n",
    "                    '%d' % int(height1),\n",
    "                    ha='center', va='bottom')\n",
    "        ax1.text(rect2.get_x() + rect2.get_width()/2., 1.05*height1 + height2,\n",
    "                '%d' % int(height2),\n",
    "                ha='center', va='bottom')\n",
    "autolabel(zip(rects1_1, rects2_1))\n",
    "\n",
    "# Bar graph 2\n",
    "# plot chart for percentage of survivors by decks\n",
    "rects1_2 = ax2.bar(range(len(data1_percentages)), data1_percentages, color=col[0])\n",
    "rects2_2 = ax2.bar(range(len(data2_percentages)), data2_percentages, bottom=data1_percentages, color=col[1])\n",
    "plt.sca(ax2)\n",
    "plt.xticks(tick_spacing,  deck_lables)\n",
    "ax2.set_ylabel(\"Percentage\")\n",
    "ax2.set_xlabel(\"Decks\")\n",
    "ax2.set_title(\"% of survivors by Deck\",fontsize=14)\n",
    "\n",
    "def autolabel(rects):\n",
    "    # attach some text labels\n",
    "    for rect1, rect2 in rects:\n",
    "        height1 = rect1.get_height()\n",
    "        height2 = rect2.get_height()\n",
    "        if height1 != 0:\n",
    "            ax2.text(rect1.get_x() + rect1.get_width()/2., 0.5*height1,\n",
    "                    str(round(height1,1))+'%',\n",
    "                    ha='center', va='bottom')\n",
    "        ax2.text(rect2.get_x() + rect2.get_width()/2., height1 + 0.5* height2,\n",
    "                str(round(height2,1))+'%',\n",
    "                ha='center', va='bottom')\n",
    "\n",
    "autolabel(zip(rects1_2, rects2_2))"
   ]
  },
  {
   "cell_type": "markdown",
   "metadata": {},
   "source": [
    "The bar graph on the left shows the count of survivors and deceased, The bar graph on right shows the percent of survivors across various decks.\n",
    "\n",
    "From the graphs, it is a clear indication that all decks have approximately equal chances of survival.\n",
    "\n",
    "##### Hypothesis\n",
    "H0 = All Decks have equal chance of survival\n",
    "\n",
    "HA = All Decks do not have equal chance of survival\n",
    "\n",
    "To tackle this we can use Chi-Square test to find if the survival and Decks are independent of each other."
   ]
  },
  {
   "cell_type": "code",
   "execution_count": 44,
   "metadata": {
    "collapsed": false
   },
   "outputs": [
    {
     "data": {
      "text/html": [
       "<table border=\"1\" cellpadding=\"3\" cellspacing=\"0\"  style=\"border:1px solid black;border-collapse:collapse;\"><tr><td>Item</td><td>Value</td></tr><tr><td>Chi-Square&nbspTest</td><td>10.7216</td></tr><tr><td>P-Value</td><td>0.1512</td></tr></table>"
      ],
      "text/plain": [
       "<ipy_table.IpyTable at 0xc58aa90>"
      ]
     },
     "execution_count": 44,
     "metadata": {},
     "output_type": "execute_result"
    }
   ],
   "source": [
    "chi2, p, dof, expected = stats.chi2_contingency(table.values)\n",
    "results = [\n",
    "    ['Item','Value'],\n",
    "    ['Chi-Square Test',chi2],\n",
    "    ['P-Value', p]\n",
    "]\n",
    "tbl.make_table(results)"
   ]
  },
  {
   "cell_type": "markdown",
   "metadata": {},
   "source": [
    "We see from the table above that the P-Value is 0.1512 which is not significant at alpha level = 0.05.\n",
    "\n",
    "###### Hence we cannot reject the Null Hypothesis. All decks have equal chances of survival.\n"
   ]
  },
  {
   "cell_type": "markdown",
   "metadata": {},
   "source": [
    "### Of all the variables that we have looked at which are the most important features?\n",
    "\n",
    "Using ensemble methods such as random forest, we can find out the order of importance of the features."
   ]
  },
  {
   "cell_type": "code",
   "execution_count": 45,
   "metadata": {
    "collapsed": false
   },
   "outputs": [
    {
     "name": "stdout",
     "output_type": "stream",
     "text": [
      "Feature ranking:\n",
      "1. feature 2 (0.409957) Age\n",
      "2. feature 0 (0.358137) Sex\n",
      "3. feature 1 (0.137229) Pclass\n",
      "4. feature 3 (0.094678) Family_size\n"
     ]
    },
    {
     "data": {
      "image/png": "[encoded data removed]",
      "text/plain": [
       "<matplotlib.figure.Figure at 0xc540c18>"
      ]
     },
     "metadata": {},
     "output_type": "display_data"
    }
   ],
   "source": [
    "import numpy as np\n",
    "import matplotlib.pyplot as plt\n",
    "\n",
    "from sklearn.datasets import make_classification\n",
    "from sklearn.ensemble import ExtraTreesClassifier\n",
    "\n",
    "# Build a classification task using 4 informative features\n",
    "X = titanic_dataset.loc[:,['Sex', 'Pclass', 'Age', 'Family_size']]\n",
    "y = titanic_dataset['Survived']\n",
    "\n",
    "# Build a forest and compute the feature importances\n",
    "forest = ExtraTreesClassifier(n_estimators=500,\n",
    "                              random_state=0)\n",
    "\n",
    "forest.fit(X, y)\n",
    "importances = forest.feature_importances_\n",
    "std = np.std([tree.feature_importances_ for tree in forest.estimators_],\n",
    "             axis=0)\n",
    "indices = np.argsort(importances)[::-1]\n",
    "\n",
    "# Print the feature ranking\n",
    "print(\"Feature ranking:\")\n",
    "\n",
    "for f in range(X.shape[1]):\n",
    "    print(\"%d. feature %d (%f) %s\" % (f + 1, indices[f], importances[indices[f]], X.columns.values[indices[f]]))\n",
    "\n",
    "# Plot the feature importances of the forest\n",
    "plt.figure()\n",
    "plt.title(\"Feature importances\")\n",
    "plt.bar(range(X.shape[1]), importances[indices],\n",
    "       color=\"r\", yerr=std[indices], align=\"center\")\n",
    "plt.xticks(range(X.shape[1]), X.columns.values[indices])\n",
    "plt.xlabel(\"Features\")\n",
    "plt.ylabel(\"Importance ratio\")\n",
    "plt.xlim([-1, X.shape[1]])\n",
    "plt.show()"
   ]
  },
  {
   "cell_type": "markdown",
   "metadata": {
    "collapsed": true
   },
   "source": [
    "From the graph above the we can see that Age is more important feature."
   ]
  },
  {
   "cell_type": "markdown",
   "metadata": {},
   "source": [
    "## 3. Conclusion\n",
    "\n",
    "#### Limitations\n",
    "\n",
    "The are a number of limitations with the Titanic Dataset, which are caused by:\n",
    "\n",
    "- missing data\n",
    "- only been a sample of the data\n",
    "- additional information\n",
    "\n",
    "The missing data and size of the sample could skew the results. There is missing data for Age column, for which KNearest Neighbour algorithm has been used, this is better than using mean values but it is not as good as having actual data for the analysis. There are only 200 records with valid cabin information, updating the information for rest 691 rows will skew the results and this will not be a good representation of overall dataset.\n",
    "\n",
    "The analysis that has been done is on a sample dataset, which implies chances of having sampling error. In the analysis presented Females had better chances of survival, which may be due to bias in our sample. It's better to have analysis done on multiple samples to eliminate the possibility of sampling error and produce concrete results. Much better option would be doing analysis on complete dataset. \n",
    "\n",
    "It would have been nice to have the information on how people have survived, whether they were on a life boat or rescued by some other ship. Information on people being in which lifeboat can help us understand who were given more priority.\n",
    "\n",
    "\n",
    "#### Summary\n",
    "The major findings of this analysis are the following:\n",
    "\n",
    "- Females (74.2%) had a way higher rate of survival than males (18.9%).\n",
    "\n",
    "- Passengers of 1st class had 63% and 3rd class has 24.2% of survival.\n",
    "\n",
    "- Although Age is found out to be most important feature, to comment if some age group is more likely to survive is dependent on the bin size. For bin size of 10, 0-9 age group is more likely to survive.\n",
    "\n",
    "- It is found out that small families have more chance of survival at 57.88%.\n",
    "\n",
    "- Data about *Decks* is unreliable, From the data that is available it is found out that All decks have equal chance of survival.\n",
    "\n",
    "From the Random forest algorithm most important features are listed in order below:\n",
    "\n",
    "1. Age\n",
    "2. Sex\n",
    "3. Pclass\n",
    "4. Family_size\n",
    "\n",
    "These variables show dependency on Survived variable, this doesn't represent a casual relationship as there may be many lurking variables effecting the chance of survival. Also, this is not a controlled to experiment to state that this relationship is due to causality."
   ]
  }
 ],
 "metadata": {
  "anaconda-cloud": {},
  "kernelspec": {
   "display_name": "Python [Root]",
   "language": "python",
   "name": "Python [Root]"
  },
  "language_info": {
   "codemirror_mode": {
    "name": "ipython",
    "version": 2
   },
   "file_extension": ".py",
   "mimetype": "text/x-python",
   "name": "python",
   "nbconvert_exporter": "python",
   "pygments_lexer": "ipython2",
   "version": "2.7.12"
  }
 },
 "nbformat": 4,
 "nbformat_minor": 0
}
